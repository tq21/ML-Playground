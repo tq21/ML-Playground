{
  "nbformat": 4,
  "nbformat_minor": 0,
  "metadata": {
    "colab": {
      "name": "NLP_word_embedding.ipynb",
      "provenance": [],
      "collapsed_sections": [],
      "authorship_tag": "ABX9TyMYPLlt5jgceUVstHeN6pMW",
      "include_colab_link": true
    },
    "kernelspec": {
      "name": "python3",
      "display_name": "Python 3"
    }
  },
  "cells": [
    {
      "cell_type": "markdown",
      "metadata": {
        "id": "view-in-github",
        "colab_type": "text"
      },
      "source": [
        "<a href=\"https://colab.research.google.com/github/tq21/ML-Stuff/blob/master/NLP_word_embedding.ipynb\" target=\"_parent\"><img src=\"https://colab.research.google.com/assets/colab-badge.svg\" alt=\"Open In Colab\"/></a>"
      ]
    },
    {
      "cell_type": "code",
      "metadata": {
        "id": "CXQ5dZ_o6vJz",
        "colab_type": "code",
        "colab": {}
      },
      "source": [
        "import csv\n",
        "import tensorflow as tf\n",
        "import numpy as np\n",
        "from tensorflow.keras.preprocessing.text import Tokenizer\n",
        "from tensorflow.keras.preprocessing.sequence import pad_sequences"
      ],
      "execution_count": 8,
      "outputs": []
    },
    {
      "cell_type": "code",
      "metadata": {
        "id": "IrBariTA6728",
        "colab_type": "code",
        "colab": {
          "base_uri": "https://localhost:8080/",
          "height": 68
        },
        "outputId": "5eae3e96-f9d3-445f-e5ba-d1a59c1c49a7"
      },
      "source": [
        "!curl https://storage.googleapis.com/laurencemoroney-blog.appspot.com/bbc-text.csv \\\n",
        "    -o /tmp/bbc-text.csv"
      ],
      "execution_count": 9,
      "outputs": [
        {
          "output_type": "stream",
          "text": [
            "  % Total    % Received % Xferd  Average Speed   Time    Time     Time  Current\n",
            "                                 Dload  Upload   Total   Spent    Left  Speed\n",
            "\r  0     0    0     0    0     0      0      0 --:--:-- --:--:-- --:--:--     0\r100 4938k  100 4938k    0     0   102M      0 --:--:-- --:--:-- --:--:--  102M\n"
          ],
          "name": "stdout"
        }
      ]
    },
    {
      "cell_type": "code",
      "metadata": {
        "id": "X-lfZTnbGqFc",
        "colab_type": "code",
        "colab": {}
      },
      "source": [
        "stopwords = [ \"a\", \"about\", \"above\", \"after\", \"again\", \"against\", \"all\", \"am\", \"an\", \"and\", \"any\", \"are\", \"as\", \"at\", \"be\", \"because\", \"been\", \"before\", \"being\", \"below\", \"between\", \"both\", \"but\", \"by\", \"could\", \"did\", \"do\", \"does\", \"doing\", \"down\", \"during\", \"each\", \"few\", \"for\", \"from\", \"further\", \"had\", \"has\", \"have\", \"having\", \"he\", \"he'd\", \"he'll\", \"he's\", \"her\", \"here\", \"here's\", \"hers\", \"herself\", \"him\", \"himself\", \"his\", \"how\", \"how's\", \"i\", \"i'd\", \"i'll\", \"i'm\", \"i've\", \"if\", \"in\", \"into\", \"is\", \"it\", \"it's\", \"its\", \"itself\", \"let's\", \"me\", \"more\", \"most\", \"my\", \"myself\", \"nor\", \"of\", \"on\", \"once\", \"only\", \"or\", \"other\", \"ought\", \"our\", \"ours\", \"ourselves\", \"out\", \"over\", \"own\", \"same\", \"she\", \"she'd\", \"she'll\", \"she's\", \"should\", \"so\", \"some\", \"such\", \"than\", \"that\", \"that's\", \"the\", \"their\", \"theirs\", \"them\", \"themselves\", \"then\", \"there\", \"there's\", \"these\", \"they\", \"they'd\", \"they'll\", \"they're\", \"they've\", \"this\", \"those\", \"through\", \"to\", \"too\", \"under\", \"until\", \"up\", \"very\", \"was\", \"we\", \"we'd\", \"we'll\", \"we're\", \"we've\", \"were\", \"what\", \"what's\", \"when\", \"when's\", \"where\", \"where's\", \"which\", \"while\", \"who\", \"who's\", \"whom\", \"why\", \"why's\", \"with\", \"would\", \"you\", \"you'd\", \"you'll\", \"you're\", \"you've\", \"your\", \"yours\", \"yourself\", \"yourselves\" ]"
      ],
      "execution_count": 10,
      "outputs": []
    },
    {
      "cell_type": "code",
      "metadata": {
        "id": "P5F3TpJa7Fhp",
        "colab_type": "code",
        "colab": {}
      },
      "source": [
        "# hyperparameters\n",
        "vocab_size = 1000\n",
        "embedding_dim = 16\n",
        "max_length = 120\n",
        "trunc_type = 'post'\n",
        "padding_type = 'post'\n",
        "oov_tok = \"<OOV>\"\n",
        "training_portion = 0.8"
      ],
      "execution_count": 11,
      "outputs": []
    },
    {
      "cell_type": "code",
      "metadata": {
        "id": "IsRxfVXnGaJy",
        "colab_type": "code",
        "colab": {
          "base_uri": "https://localhost:8080/",
          "height": 34
        },
        "outputId": "c50b5330-fd7d-4d6f-fcd9-f99caa5fdad8"
      },
      "source": [
        "sentences = []\n",
        "labels = []\n",
        "\n",
        "with open(\"/tmp/bbc-text.csv\", 'r') as csvfile:\n",
        "    reader = csv.reader(csvfile, delimiter=',')\n",
        "    next(reader)\n",
        "    for row in reader:\n",
        "        labels.append(row[0])\n",
        "        sentence = row[1]\n",
        "        for word in stopwords:\n",
        "            token = \" \" + word + \" \"\n",
        "            sentence = sentence.replace(token, \" \")\n",
        "            sentence = sentence.replace(\"  \", \" \")\n",
        "        sentences.append(sentence)\n",
        "\n",
        "print(\"Number of sentences: {}\".format(len(sentences)))"
      ],
      "execution_count": 13,
      "outputs": [
        {
          "output_type": "stream",
          "text": [
            "Number of sentences: 2225\n"
          ],
          "name": "stdout"
        }
      ]
    },
    {
      "cell_type": "code",
      "metadata": {
        "id": "Xi0Sw3ExHHPX",
        "colab_type": "code",
        "colab": {
          "base_uri": "https://localhost:8080/",
          "height": 85
        },
        "outputId": "7aa82a69-550b-45f4-9a4b-a4506612e1f7"
      },
      "source": [
        "train_size = int(len(sentences) * training_portion)\n",
        "\n",
        "train_sentences = sentences[:train_size]\n",
        "train_labels = labels[:train_size]\n",
        "\n",
        "valid_sentences = sentences[train_size:]\n",
        "valid_labels = labels[train_size:]\n",
        "\n",
        "print(\"Training sentences size: {}\".format(len(train_sentences)))\n",
        "print(\"Training labels size: {}\".format(len(train_labels)))\n",
        "print(\"Validation sentences size: {}\".format(len(valid_sentences)))\n",
        "print(\"Validation labels size: {}\".format(len(valid_labels)))"
      ],
      "execution_count": 14,
      "outputs": [
        {
          "output_type": "stream",
          "text": [
            "Training sentences size: 1780\n",
            "Training labels size: 1780\n",
            "Validation sentences size: 445\n",
            "Validation labels size: 445\n"
          ],
          "name": "stdout"
        }
      ]
    },
    {
      "cell_type": "code",
      "metadata": {
        "id": "wlAy26_XH3NT",
        "colab_type": "code",
        "colab": {
          "base_uri": "https://localhost:8080/",
          "height": 34
        },
        "outputId": "9c4f9935-b4b0-46d2-d569-a69eef6647de"
      },
      "source": [
        "# Tokenize training sentences, padding\n",
        "tokenizer = Tokenizer(num_words=vocab_size,\n",
        "                      oov_token=oov_tok)\n",
        "tokenizer.fit_on_texts(train_sentences)\n",
        "word_index = tokenizer.word_index\n",
        "train_seq = tokenizer.texts_to_sequences(train_sentences)\n",
        "train_pad = pad_sequences(train_seq,\n",
        "                          padding=padding_type,\n",
        "                          truncating=trunc_type,\n",
        "                          maxlen=max_length)\n",
        "\n",
        "print(\"Shape padded (training): {}\".format(train_pad.shape))"
      ],
      "execution_count": 16,
      "outputs": [
        {
          "output_type": "stream",
          "text": [
            "Shape padded (training): (1780, 120)\n"
          ],
          "name": "stdout"
        }
      ]
    },
    {
      "cell_type": "code",
      "metadata": {
        "id": "DWtYCYD_Ih05",
        "colab_type": "code",
        "colab": {
          "base_uri": "https://localhost:8080/",
          "height": 34
        },
        "outputId": "d9adb152-cf83-4790-f228-522ca6733715"
      },
      "source": [
        "# Tokenize validation sentences, padding\n",
        "valid_seq = tokenizer.texts_to_sequences(valid_sentences)\n",
        "valid_pad = pad_sequences(valid_seq,\n",
        "                          padding=padding_type,\n",
        "                          truncating=trunc_type,\n",
        "                          maxlen=max_length)\n",
        "\n",
        "print(\"Shape padded (validation): {}\".format(valid_pad.shape))"
      ],
      "execution_count": 19,
      "outputs": [
        {
          "output_type": "stream",
          "text": [
            "Shape padded (validation): (445, 120)\n"
          ],
          "name": "stdout"
        }
      ]
    },
    {
      "cell_type": "code",
      "metadata": {
        "id": "Lt50NuEoJCfC",
        "colab_type": "code",
        "colab": {
          "base_uri": "https://localhost:8080/",
          "height": 68
        },
        "outputId": "afd8a18c-4b6d-49cc-d6b5-d04a80384f53"
      },
      "source": [
        "# Tokenize labels\n",
        "label_tokenizer = Tokenizer()\n",
        "label_tokenizer.fit_on_texts(labels)\n",
        "label_word_index = label_tokenizer.word_index\n",
        "\n",
        "train_label_seq = np.array(label_tokenizer.texts_to_sequences(train_labels))\n",
        "valid_label_seq = np.array(label_tokenizer.texts_to_sequences(valid_labels))\n",
        "\n",
        "print(\"Shape training labels: {}\".format(train_label_seq.shape))\n",
        "print(\"Shape validation labels: {}\".format(valid_label_seq.shape))\n",
        "print(label_word_index)"
      ],
      "execution_count": 25,
      "outputs": [
        {
          "output_type": "stream",
          "text": [
            "Shape training labels: (1780, 1)\n",
            "Shape validation labels: (445, 1)\n",
            "{'sport': 1, 'business': 2, 'politics': 3, 'tech': 4, 'entertainment': 5}\n"
          ],
          "name": "stdout"
        }
      ]
    },
    {
      "cell_type": "code",
      "metadata": {
        "id": "4BWMWMs6JsKj",
        "colab_type": "code",
        "colab": {
          "base_uri": "https://localhost:8080/",
          "height": 289
        },
        "outputId": "7b97da74-3887-4f95-f5a0-73320503e3ef"
      },
      "source": [
        "model = tf.keras.Sequential([\n",
        "    tf.keras.layers.Embedding(vocab_size, embedding_dim, input_length=max_length),\n",
        "    tf.keras.layers.GlobalAveragePooling1D(),\n",
        "    tf.keras.layers.Dense(24, activation='relu'),\n",
        "    tf.keras.layers.Dense(6, activation='softmax')\n",
        "])\n",
        "\n",
        "model.compile(\n",
        "    loss='sparse_categorical_crossentropy',\n",
        "    optimizer='adam',\n",
        "    metrics=['accuracy']\n",
        ")\n",
        "\n",
        "model.summary()"
      ],
      "execution_count": 29,
      "outputs": [
        {
          "output_type": "stream",
          "text": [
            "Model: \"sequential_2\"\n",
            "_________________________________________________________________\n",
            "Layer (type)                 Output Shape              Param #   \n",
            "=================================================================\n",
            "embedding_2 (Embedding)      (None, 120, 16)           16000     \n",
            "_________________________________________________________________\n",
            "global_average_pooling1d_2 ( (None, 16)                0         \n",
            "_________________________________________________________________\n",
            "dense_4 (Dense)              (None, 24)                408       \n",
            "_________________________________________________________________\n",
            "dense_5 (Dense)              (None, 6)                 150       \n",
            "=================================================================\n",
            "Total params: 16,558\n",
            "Trainable params: 16,558\n",
            "Non-trainable params: 0\n",
            "_________________________________________________________________\n"
          ],
          "name": "stdout"
        }
      ]
    },
    {
      "cell_type": "code",
      "metadata": {
        "id": "nelSYZWlLJPm",
        "colab_type": "code",
        "colab": {
          "base_uri": "https://localhost:8080/",
          "height": 1000
        },
        "outputId": "dfabe296-c2a9-4832-cb59-eeeecdc66de2"
      },
      "source": [
        "history = model.fit(\n",
        "    train_pad,\n",
        "    train_label_seq,\n",
        "    epochs=30,\n",
        "    validation_data=(valid_pad, valid_label_seq)\n",
        ")"
      ],
      "execution_count": 30,
      "outputs": [
        {
          "output_type": "stream",
          "text": [
            "Epoch 1/30\n",
            "56/56 [==============================] - 0s 5ms/step - loss: 1.7708 - accuracy: 0.2320 - val_loss: 1.7412 - val_accuracy: 0.2629\n",
            "Epoch 2/30\n",
            "56/56 [==============================] - 0s 2ms/step - loss: 1.7015 - accuracy: 0.3933 - val_loss: 1.6503 - val_accuracy: 0.4225\n",
            "Epoch 3/30\n",
            "56/56 [==============================] - 0s 3ms/step - loss: 1.5903 - accuracy: 0.4399 - val_loss: 1.5243 - val_accuracy: 0.4584\n",
            "Epoch 4/30\n",
            "56/56 [==============================] - 0s 2ms/step - loss: 1.4367 - accuracy: 0.4556 - val_loss: 1.3575 - val_accuracy: 0.4674\n",
            "Epoch 5/30\n",
            "56/56 [==============================] - 0s 3ms/step - loss: 1.2532 - accuracy: 0.4916 - val_loss: 1.1813 - val_accuracy: 0.5820\n",
            "Epoch 6/30\n",
            "56/56 [==============================] - 0s 2ms/step - loss: 1.0659 - accuracy: 0.6202 - val_loss: 1.0108 - val_accuracy: 0.7191\n",
            "Epoch 7/30\n",
            "56/56 [==============================] - 0s 2ms/step - loss: 0.8916 - accuracy: 0.7983 - val_loss: 0.8609 - val_accuracy: 0.8270\n",
            "Epoch 8/30\n",
            "56/56 [==============================] - 0s 3ms/step - loss: 0.7193 - accuracy: 0.9022 - val_loss: 0.6981 - val_accuracy: 0.8809\n",
            "Epoch 9/30\n",
            "56/56 [==============================] - 0s 3ms/step - loss: 0.5639 - accuracy: 0.9354 - val_loss: 0.5677 - val_accuracy: 0.9056\n",
            "Epoch 10/30\n",
            "56/56 [==============================] - 0s 2ms/step - loss: 0.4421 - accuracy: 0.9438 - val_loss: 0.4698 - val_accuracy: 0.9191\n",
            "Epoch 11/30\n",
            "56/56 [==============================] - 0s 2ms/step - loss: 0.3472 - accuracy: 0.9562 - val_loss: 0.3921 - val_accuracy: 0.9236\n",
            "Epoch 12/30\n",
            "56/56 [==============================] - 0s 3ms/step - loss: 0.2782 - accuracy: 0.9629 - val_loss: 0.3353 - val_accuracy: 0.9348\n",
            "Epoch 13/30\n",
            "56/56 [==============================] - 0s 2ms/step - loss: 0.2288 - accuracy: 0.9685 - val_loss: 0.2996 - val_accuracy: 0.9326\n",
            "Epoch 14/30\n",
            "56/56 [==============================] - 0s 2ms/step - loss: 0.1918 - accuracy: 0.9730 - val_loss: 0.2734 - val_accuracy: 0.9393\n",
            "Epoch 15/30\n",
            "56/56 [==============================] - 0s 2ms/step - loss: 0.1646 - accuracy: 0.9753 - val_loss: 0.2502 - val_accuracy: 0.9416\n",
            "Epoch 16/30\n",
            "56/56 [==============================] - 0s 2ms/step - loss: 0.1431 - accuracy: 0.9798 - val_loss: 0.2370 - val_accuracy: 0.9416\n",
            "Epoch 17/30\n",
            "56/56 [==============================] - 0s 2ms/step - loss: 0.1252 - accuracy: 0.9815 - val_loss: 0.2262 - val_accuracy: 0.9438\n",
            "Epoch 18/30\n",
            "56/56 [==============================] - 0s 3ms/step - loss: 0.1107 - accuracy: 0.9843 - val_loss: 0.2177 - val_accuracy: 0.9438\n",
            "Epoch 19/30\n",
            "56/56 [==============================] - 0s 2ms/step - loss: 0.0982 - accuracy: 0.9865 - val_loss: 0.2113 - val_accuracy: 0.9461\n",
            "Epoch 20/30\n",
            "56/56 [==============================] - 0s 3ms/step - loss: 0.0876 - accuracy: 0.9876 - val_loss: 0.2073 - val_accuracy: 0.9461\n",
            "Epoch 21/30\n",
            "56/56 [==============================] - 0s 2ms/step - loss: 0.0793 - accuracy: 0.9893 - val_loss: 0.2013 - val_accuracy: 0.9393\n",
            "Epoch 22/30\n",
            "56/56 [==============================] - 0s 2ms/step - loss: 0.0709 - accuracy: 0.9916 - val_loss: 0.1975 - val_accuracy: 0.9438\n",
            "Epoch 23/30\n",
            "56/56 [==============================] - 0s 2ms/step - loss: 0.0637 - accuracy: 0.9938 - val_loss: 0.1957 - val_accuracy: 0.9438\n",
            "Epoch 24/30\n",
            "56/56 [==============================] - 0s 2ms/step - loss: 0.0575 - accuracy: 0.9961 - val_loss: 0.1969 - val_accuracy: 0.9416\n",
            "Epoch 25/30\n",
            "56/56 [==============================] - 0s 2ms/step - loss: 0.0519 - accuracy: 0.9966 - val_loss: 0.1978 - val_accuracy: 0.9483\n",
            "Epoch 26/30\n",
            "56/56 [==============================] - 0s 2ms/step - loss: 0.0471 - accuracy: 0.9972 - val_loss: 0.1929 - val_accuracy: 0.9438\n",
            "Epoch 27/30\n",
            "56/56 [==============================] - 0s 2ms/step - loss: 0.0426 - accuracy: 0.9978 - val_loss: 0.1911 - val_accuracy: 0.9416\n",
            "Epoch 28/30\n",
            "56/56 [==============================] - 0s 3ms/step - loss: 0.0391 - accuracy: 0.9983 - val_loss: 0.1904 - val_accuracy: 0.9393\n",
            "Epoch 29/30\n",
            "56/56 [==============================] - 0s 3ms/step - loss: 0.0354 - accuracy: 0.9983 - val_loss: 0.1939 - val_accuracy: 0.9416\n",
            "Epoch 30/30\n",
            "56/56 [==============================] - 0s 2ms/step - loss: 0.0324 - accuracy: 0.9994 - val_loss: 0.1922 - val_accuracy: 0.9393\n"
          ],
          "name": "stdout"
        }
      ]
    },
    {
      "cell_type": "code",
      "metadata": {
        "id": "MgAj31J4LbJj",
        "colab_type": "code",
        "colab": {
          "base_uri": "https://localhost:8080/",
          "height": 541
        },
        "outputId": "c34bef9f-1015-4b95-d254-4fae70aa7fb8"
      },
      "source": [
        "import matplotlib.pyplot as plt\n",
        "\n",
        "def plot_graphs(history, string):\n",
        "    plt.plot(history.history[string])\n",
        "    plt.plot(history.history['val_'+string])\n",
        "    plt.xlabel(\"Epochs\")\n",
        "    plt.ylabel(string)\n",
        "    plt.legend([string, 'val_'+string])\n",
        "    plt.show()\n",
        "  \n",
        "plot_graphs(history, \"accuracy\")\n",
        "plot_graphs(history, \"loss\")"
      ],
      "execution_count": 31,
      "outputs": [
        {
          "output_type": "display_data",
          "data": {
            "image/png": "[encoded data removed]",
            "text/plain": [
              "<Figure size 432x288 with 1 Axes>"
            ]
          },
          "metadata": {
            "tags": [],
            "needs_background": "light"
          }
        },
        {
          "output_type": "display_data",
          "data": {
            "image/png": "[encoded data removed]",
            "text/plain": [
              "<Figure size 432x288 with 1 Axes>"
            ]
          },
          "metadata": {
            "tags": [],
            "needs_background": "light"
          }
        }
      ]
    }
  ]
}