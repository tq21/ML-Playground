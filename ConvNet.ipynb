{
  "nbformat": 4,
  "nbformat_minor": 0,
  "metadata": {
    "kernelspec": {
      "display_name": "Python 3",
      "language": "python",
      "name": "python3"
    },
    "language_info": {
      "codemirror_mode": {
        "name": "ipython",
        "version": 3
      },
      "file_extension": ".py",
      "mimetype": "text/x-python",
      "name": "python",
      "nbconvert_exporter": "python",
      "pygments_lexer": "ipython3",
      "version": "3.7.1"
    },
    "colab": {
      "name": "Copy of ConvNet.ipynb",
      "provenance": [],
      "collapsed_sections": [],
      "include_colab_link": true
    },
    "accelerator": "GPU"
  },
  "cells": [
    {
      "cell_type": "markdown",
      "metadata": {
        "id": "view-in-github",
        "colab_type": "text"
      },
      "source": [
        "<a href=\"https://colab.research.google.com/github/tq21/ML-Stuff/blob/master/ConvNet.ipynb\" target=\"_parent\"><img src=\"https://colab.research.google.com/assets/colab-badge.svg\" alt=\"Open In Colab\"/></a>"
      ]
    },
    {
      "cell_type": "code",
      "metadata": {
        "id": "9m_zRxwi5fEj",
        "colab_type": "code",
        "colab": {
          "base_uri": "https://localhost:8080/",
          "height": 68
        },
        "outputId": "e97dc7a9-4dfb-4b18-fa8c-fd1ff46ac417"
      },
      "source": [
        "!curl https://storage.googleapis.com/laurencemoroney-blog.appspot.com/horse-or-human.zip -o /tmp/horse-or-human.zip"
      ],
      "execution_count": 1,
      "outputs": [
        {
          "output_type": "stream",
          "text": [
            "  % Total    % Received % Xferd  Average Speed   Time    Time     Time  Current\n",
            "                                 Dload  Upload   Total   Spent    Left  Speed\n",
            "100  142M  100  142M    0     0  68.6M      0  0:00:02  0:00:02 --:--:-- 68.6M\n"
          ],
          "name": "stdout"
        }
      ]
    },
    {
      "cell_type": "code",
      "metadata": {
        "id": "aKuoxwXM5fEm",
        "colab_type": "code",
        "colab": {
          "base_uri": "https://localhost:8080/",
          "height": 68
        },
        "outputId": "e5caaa51-f822-43df-d01e-6f8a646feeff"
      },
      "source": [
        "!curl https://storage.googleapis.com/laurencemoroney-blog.appspot.com/validation-horse-or-human.zip \\\n",
        "    -o /tmp/validation-horse-or-human.zip"
      ],
      "execution_count": 2,
      "outputs": [
        {
          "output_type": "stream",
          "text": [
            "  % Total    % Received % Xferd  Average Speed   Time    Time     Time  Current\n",
            "                                 Dload  Upload   Total   Spent    Left  Speed\n",
            "100 10.9M  100 10.9M    0     0  14.5M      0 --:--:-- --:--:-- --:--:-- 14.4M\n"
          ],
          "name": "stdout"
        }
      ]
    },
    {
      "cell_type": "code",
      "metadata": {
        "id": "7p26Ar2T5fEq",
        "colab_type": "code",
        "colab": {}
      },
      "source": [
        "import os\n",
        "import zipfile\n",
        "\n",
        "local_zip = '/tmp/horse-or-human.zip'\n",
        "zip_ref = zipfile.ZipFile(local_zip, 'r')\n",
        "zip_ref.extractall('/tmp/horse-or-human')\n",
        "local_zip = '/tmp/validation-horse-or-human.zip'\n",
        "zip_ref = zipfile.ZipFile(local_zip, 'r')\n",
        "zip_ref.extractall('/tmp/validation-horse-or-human')\n",
        "zip_ref.close()"
      ],
      "execution_count": 3,
      "outputs": []
    },
    {
      "cell_type": "code",
      "metadata": {
        "id": "ZRi38B8x5fEt",
        "colab_type": "code",
        "colab": {}
      },
      "source": [
        "# Directory with our training horse pictures\n",
        "train_horse_dir = os.path.join('/tmp/horse-or-human/horses')\n",
        "\n",
        "# Directory with our training human pictures\n",
        "train_human_dir = os.path.join('/tmp/horse-or-human/humans')\n",
        "\n",
        "# Directory with our training horse pictures\n",
        "validation_horse_dir = os.path.join('/tmp/validation-horse-or-human/horses')\n",
        "\n",
        "# Directory with our training human pictures\n",
        "validation_human_dir = os.path.join('/tmp/validation-horse-or-human/humans')"
      ],
      "execution_count": 4,
      "outputs": []
    },
    {
      "cell_type": "code",
      "metadata": {
        "id": "OEmoGU445fEv",
        "colab_type": "code",
        "colab": {}
      },
      "source": [
        "train_horse_names = os.listdir(train_horse_dir)\n",
        "train_human_names = os.listdir(train_human_dir)\n",
        "\n",
        "validation_horse_hames = os.listdir(validation_horse_dir)\n",
        "validation_human_names = os.listdir(validation_human_dir)\n",
        "\n",
        "train_dir = '/tmp/horse-or-human/'\n",
        "valid_dir = '/tmp/validation-horse-or-human/'"
      ],
      "execution_count": 5,
      "outputs": []
    },
    {
      "cell_type": "markdown",
      "metadata": {
        "id": "LPhyQP6a5fE0",
        "colab_type": "text"
      },
      "source": [
        "## Data Preprocessing using ImageDataGenerator:"
      ]
    },
    {
      "cell_type": "code",
      "metadata": {
        "id": "dQ_wtfC65fE1",
        "colab_type": "code",
        "colab": {
          "base_uri": "https://localhost:8080/",
          "height": 51
        },
        "outputId": "fa963372-e06d-41de-841c-8596811e3978"
      },
      "source": [
        "from tensorflow.keras.preprocessing.image import ImageDataGenerator\n",
        "\n",
        "# rescale all images\n",
        "# adding augmentations\n",
        "train_datagen = ImageDataGenerator(\n",
        "    rescale=1.0/255.0,\n",
        "    rotation_range=40,\n",
        "    width_shift_range=0.2,\n",
        "    height_shift_range=0.2,\n",
        "    shear_range=0.2,\n",
        "    zoom_range=0.2,\n",
        "    horizontal_flip=True,\n",
        "    fill_mode='nearest')\n",
        "\n",
        "valid_datagen = ImageDataGenerator(rescale=1.0/255.0)\n",
        "\n",
        "# flow training images in batches of 128 using train_datagen generator\n",
        "train_generator = train_datagen.flow_from_directory(\n",
        "    train_dir,\n",
        "    target_size=(150,150),\n",
        "    batch_size=128,\n",
        "    class_mode='binary')\n",
        "\n",
        "valid_generator = valid_datagen.flow_from_directory(\n",
        "    valid_dir,\n",
        "    target_size=(150,150),\n",
        "    batch_size=32,\n",
        "    class_mode='binary')"
      ],
      "execution_count": 15,
      "outputs": [
        {
          "output_type": "stream",
          "text": [
            "Found 1027 images belonging to 2 classes.\n",
            "Found 256 images belonging to 2 classes.\n"
          ],
          "name": "stdout"
        }
      ]
    },
    {
      "cell_type": "markdown",
      "metadata": {
        "id": "oRDn7sIK5fE4",
        "colab_type": "text"
      },
      "source": [
        "## Build a Convolutional Neural Network:"
      ]
    },
    {
      "cell_type": "code",
      "metadata": {
        "id": "UL5LI22Z5fE6",
        "colab_type": "code",
        "colab": {}
      },
      "source": [
        "import tensorflow as tf\n",
        "from tensorflow.keras.optimizers import RMSprop"
      ],
      "execution_count": 16,
      "outputs": []
    },
    {
      "cell_type": "code",
      "metadata": {
        "id": "N83TOe_d5fE9",
        "colab_type": "code",
        "colab": {}
      },
      "source": [
        "DESIRED_ACCURACY = 0.999\n",
        "\n",
        "# callback function\n",
        "class myCallback(tf.keras.callbacks.Callback):\n",
        "    def on_epoch_end(self, epoch, logs={}):\n",
        "        if (logs.get('accuracy') > DESIRED_ACCURACY):\n",
        "            print(\"\\nReached 99.9% accuracy so cancelling training!\")\n",
        "            self.model.stop_training = True\n",
        "            \n",
        "callbacks = myCallback()\n",
        "\n",
        "# building model\n",
        "# input image shape = 150, 150\n",
        "# binary classification\n",
        "model = tf.keras.models.Sequential([\n",
        "    # first conv\n",
        "    tf.keras.layers.Conv2D(32, (3,3), activation='relu', input_shape=(150,150,3)),\n",
        "    tf.keras.layers.MaxPooling2D(2, 2),\n",
        "    # second conv\n",
        "    tf.keras.layers.Conv2D(64, (3,3), activation='relu'),\n",
        "    tf.keras.layers.MaxPooling2D(2, 2),\n",
        "    # third conv\n",
        "    tf.keras.layers.Conv2D(128, (3,3), activation='relu'),\n",
        "    tf.keras.layers.MaxPooling2D(2, 2),\n",
        "    # forth layer\n",
        "    tf.keras.layers.Conv2D(128, (3,3), activation='relu'),\n",
        "    tf.keras.layers.MaxPooling2D(2, 2),\n",
        "    # flatten\n",
        "    tf.keras.layers.Flatten(),\n",
        "    # 512 neuron hidden layer\n",
        "    tf.keras.layers.Dense(512, activation='relu'),\n",
        "    # output layer\n",
        "    tf.keras.layers.Dense(1, activation='sigmoid')\n",
        "])\n",
        "\n",
        "# compile model\n",
        "model.compile(loss='binary_crossentropy',\n",
        "              optimizer=RMSprop(lr=0.001),\n",
        "              metrics=['accuracy'])"
      ],
      "execution_count": 17,
      "outputs": []
    },
    {
      "cell_type": "code",
      "metadata": {
        "id": "8xJsI2AH8TqA",
        "colab_type": "code",
        "colab": {
          "base_uri": "https://localhost:8080/",
          "height": 527
        },
        "outputId": "2eb5ebdd-545c-41a2-b491-793150ba9def"
      },
      "source": [
        "model.summary()"
      ],
      "execution_count": 18,
      "outputs": [
        {
          "output_type": "stream",
          "text": [
            "Model: \"sequential_1\"\n",
            "_________________________________________________________________\n",
            "Layer (type)                 Output Shape              Param #   \n",
            "=================================================================\n",
            "conv2d_3 (Conv2D)            (None, 148, 148, 32)      896       \n",
            "_________________________________________________________________\n",
            "max_pooling2d_3 (MaxPooling2 (None, 74, 74, 32)        0         \n",
            "_________________________________________________________________\n",
            "conv2d_4 (Conv2D)            (None, 72, 72, 64)        18496     \n",
            "_________________________________________________________________\n",
            "max_pooling2d_4 (MaxPooling2 (None, 36, 36, 64)        0         \n",
            "_________________________________________________________________\n",
            "conv2d_5 (Conv2D)            (None, 34, 34, 128)       73856     \n",
            "_________________________________________________________________\n",
            "max_pooling2d_5 (MaxPooling2 (None, 17, 17, 128)       0         \n",
            "_________________________________________________________________\n",
            "conv2d_6 (Conv2D)            (None, 15, 15, 128)       147584    \n",
            "_________________________________________________________________\n",
            "max_pooling2d_6 (MaxPooling2 (None, 7, 7, 128)         0         \n",
            "_________________________________________________________________\n",
            "flatten_1 (Flatten)          (None, 6272)              0         \n",
            "_________________________________________________________________\n",
            "dense_2 (Dense)              (None, 512)               3211776   \n",
            "_________________________________________________________________\n",
            "dense_3 (Dense)              (None, 1)                 513       \n",
            "=================================================================\n",
            "Total params: 3,453,121\n",
            "Trainable params: 3,453,121\n",
            "Non-trainable params: 0\n",
            "_________________________________________________________________\n"
          ],
          "name": "stdout"
        }
      ]
    },
    {
      "cell_type": "code",
      "metadata": {
        "id": "N6RG917Y5fE_",
        "colab_type": "code",
        "colab": {
          "base_uri": "https://localhost:8080/",
          "height": 1000
        },
        "outputId": "16aadafe-d148-4aa6-be83-54cfd5461c8f"
      },
      "source": [
        "# train model\n",
        "history = model.fit(\n",
        "    train_generator,\n",
        "    steps_per_epoch=8,\n",
        "    epochs=50,\n",
        "    validation_data=valid_generator,\n",
        "    validation_steps=8,\n",
        "    callbacks=[callbacks])"
      ],
      "execution_count": 20,
      "outputs": [
        {
          "output_type": "stream",
          "text": [
            "Epoch 1/50\n",
            "8/8 [==============================] - 9s 1s/step - loss: 0.9452 - accuracy: 0.5083 - val_loss: 0.6861 - val_accuracy: 0.5000\n",
            "Epoch 2/50\n",
            "8/8 [==============================] - 10s 1s/step - loss: 0.6844 - accuracy: 0.5806 - val_loss: 0.6608 - val_accuracy: 0.5000\n",
            "Epoch 3/50\n",
            "8/8 [==============================] - 8s 1s/step - loss: 0.7646 - accuracy: 0.5328 - val_loss: 0.6669 - val_accuracy: 0.5391\n",
            "Epoch 4/50\n",
            "8/8 [==============================] - 8s 1s/step - loss: 0.7080 - accuracy: 0.5996 - val_loss: 1.5538 - val_accuracy: 0.5000\n",
            "Epoch 5/50\n",
            "8/8 [==============================] - 9s 1s/step - loss: 0.6770 - accuracy: 0.5951 - val_loss: 1.1096 - val_accuracy: 0.5000\n",
            "Epoch 6/50\n",
            "8/8 [==============================] - 10s 1s/step - loss: 0.9064 - accuracy: 0.6641 - val_loss: 7.9820 - val_accuracy: 0.5000\n",
            "Epoch 7/50\n",
            "8/8 [==============================] - 9s 1s/step - loss: 0.9676 - accuracy: 0.6730 - val_loss: 0.7393 - val_accuracy: 0.5000\n",
            "Epoch 8/50\n",
            "8/8 [==============================] - 9s 1s/step - loss: 0.5143 - accuracy: 0.7520 - val_loss: 0.7826 - val_accuracy: 0.6914\n",
            "Epoch 9/50\n",
            "8/8 [==============================] - 8s 1s/step - loss: 0.5159 - accuracy: 0.7319 - val_loss: 3.3120 - val_accuracy: 0.5352\n",
            "Epoch 10/50\n",
            "8/8 [==============================] - 8s 1s/step - loss: 0.4827 - accuracy: 0.7553 - val_loss: 4.9600 - val_accuracy: 0.5000\n",
            "Epoch 11/50\n",
            "8/8 [==============================] - 8s 1s/step - loss: 0.5480 - accuracy: 0.7275 - val_loss: 0.6489 - val_accuracy: 0.5352\n",
            "Epoch 12/50\n",
            "8/8 [==============================] - 8s 1s/step - loss: 0.5154 - accuracy: 0.7686 - val_loss: 2.2186 - val_accuracy: 0.5430\n",
            "Epoch 13/50\n",
            "8/8 [==============================] - 9s 1s/step - loss: 0.5020 - accuracy: 0.7686 - val_loss: 0.6169 - val_accuracy: 0.5039\n",
            "Epoch 14/50\n",
            "8/8 [==============================] - 9s 1s/step - loss: 0.3788 - accuracy: 0.8443 - val_loss: 4.4029 - val_accuracy: 0.5000\n",
            "Epoch 15/50\n",
            "8/8 [==============================] - 10s 1s/step - loss: 0.5036 - accuracy: 0.7831 - val_loss: 0.7599 - val_accuracy: 0.5000\n",
            "Epoch 16/50\n",
            "8/8 [==============================] - 8s 1s/step - loss: 0.4173 - accuracy: 0.8009 - val_loss: 2.9719 - val_accuracy: 0.5000\n",
            "Epoch 17/50\n",
            "8/8 [==============================] - 8s 1s/step - loss: 0.3455 - accuracy: 0.8498 - val_loss: 1.0339 - val_accuracy: 0.5820\n",
            "Epoch 18/50\n",
            "8/8 [==============================] - 8s 1s/step - loss: 0.3490 - accuracy: 0.8621 - val_loss: 6.1912 - val_accuracy: 0.5000\n",
            "Epoch 19/50\n",
            "8/8 [==============================] - 10s 1s/step - loss: 0.3648 - accuracy: 0.8576 - val_loss: 0.8016 - val_accuracy: 0.6055\n",
            "Epoch 20/50\n",
            "8/8 [==============================] - 8s 1s/step - loss: 0.2641 - accuracy: 0.8932 - val_loss: 8.9278 - val_accuracy: 0.5039\n",
            "Epoch 21/50\n",
            "8/8 [==============================] - 9s 1s/step - loss: 0.3726 - accuracy: 0.8532 - val_loss: 5.5425 - val_accuracy: 0.5820\n",
            "Epoch 22/50\n",
            "8/8 [==============================] - 8s 1s/step - loss: 0.4067 - accuracy: 0.8242 - val_loss: 11.3434 - val_accuracy: 0.5000\n",
            "Epoch 23/50\n",
            "8/8 [==============================] - 8s 1s/step - loss: 0.3359 - accuracy: 0.8420 - val_loss: 6.7864 - val_accuracy: 0.5000\n",
            "Epoch 24/50\n",
            "8/8 [==============================] - 8s 1s/step - loss: 0.5755 - accuracy: 0.8009 - val_loss: 1.2272 - val_accuracy: 0.5156\n",
            "Epoch 25/50\n",
            "8/8 [==============================] - 8s 1s/step - loss: 0.2900 - accuracy: 0.8877 - val_loss: 3.0840 - val_accuracy: 0.5977\n",
            "Epoch 26/50\n",
            "8/8 [==============================] - 10s 1s/step - loss: 0.3368 - accuracy: 0.8654 - val_loss: 3.8352 - val_accuracy: 0.5312\n",
            "Epoch 27/50\n",
            "8/8 [==============================] - 8s 1s/step - loss: 0.2342 - accuracy: 0.9032 - val_loss: 5.7258 - val_accuracy: 0.5273\n",
            "Epoch 28/50\n",
            "8/8 [==============================] - 8s 1s/step - loss: 0.3771 - accuracy: 0.8409 - val_loss: 3.6939 - val_accuracy: 0.5430\n",
            "Epoch 29/50\n",
            "8/8 [==============================] - 9s 1s/step - loss: 0.3136 - accuracy: 0.8743 - val_loss: 2.4944 - val_accuracy: 0.5352\n",
            "Epoch 30/50\n",
            "8/8 [==============================] - 8s 1s/step - loss: 0.2365 - accuracy: 0.9055 - val_loss: 1.2378 - val_accuracy: 0.5859\n",
            "Epoch 31/50\n",
            "8/8 [==============================] - 8s 1s/step - loss: 0.2418 - accuracy: 0.9043 - val_loss: 3.2003 - val_accuracy: 0.5234\n",
            "Epoch 32/50\n",
            "8/8 [==============================] - 8s 1s/step - loss: 0.2454 - accuracy: 0.9321 - val_loss: 7.2905 - val_accuracy: 0.5000\n",
            "Epoch 33/50\n",
            "8/8 [==============================] - 8s 1s/step - loss: 0.3436 - accuracy: 0.8676 - val_loss: 1.4080 - val_accuracy: 0.5938\n",
            "Epoch 34/50\n",
            "8/8 [==============================] - 8s 1s/step - loss: 0.1346 - accuracy: 0.9577 - val_loss: 15.6292 - val_accuracy: 0.5000\n",
            "Epoch 35/50\n",
            "8/8 [==============================] - 8s 1s/step - loss: 0.3239 - accuracy: 0.8921 - val_loss: 1.7696 - val_accuracy: 0.6445\n",
            "Epoch 36/50\n",
            "8/8 [==============================] - 8s 1s/step - loss: 0.1040 - accuracy: 0.9611 - val_loss: 2.8785 - val_accuracy: 0.6133\n",
            "Epoch 37/50\n",
            "8/8 [==============================] - 10s 1s/step - loss: 0.3222 - accuracy: 0.8977 - val_loss: 1.4900 - val_accuracy: 0.6172\n",
            "Epoch 38/50\n",
            "8/8 [==============================] - 9s 1s/step - loss: 0.1657 - accuracy: 0.9410 - val_loss: 2.3245 - val_accuracy: 0.6523\n",
            "Epoch 39/50\n",
            "8/8 [==============================] - 8s 1s/step - loss: 0.6247 - accuracy: 0.8598 - val_loss: 0.6168 - val_accuracy: 0.8086\n",
            "Epoch 40/50\n",
            "8/8 [==============================] - 9s 1s/step - loss: 0.1357 - accuracy: 0.9544 - val_loss: 2.3020 - val_accuracy: 0.6484\n",
            "Epoch 41/50\n",
            "8/8 [==============================] - 8s 1s/step - loss: 0.1230 - accuracy: 0.9555 - val_loss: 1.6144 - val_accuracy: 0.6992\n",
            "Epoch 42/50\n",
            "8/8 [==============================] - 8s 1s/step - loss: 0.3599 - accuracy: 0.8843 - val_loss: 2.2454 - val_accuracy: 0.6367\n",
            "Epoch 43/50\n",
            "8/8 [==============================] - 10s 1s/step - loss: 0.0987 - accuracy: 0.9644 - val_loss: 2.8445 - val_accuracy: 0.6367\n",
            "Epoch 44/50\n",
            "8/8 [==============================] - 9s 1s/step - loss: 0.0697 - accuracy: 0.9746 - val_loss: 3.6699 - val_accuracy: 0.6055\n",
            "Epoch 45/50\n",
            "8/8 [==============================] - 9s 1s/step - loss: 0.2110 - accuracy: 0.9143 - val_loss: 1.3261 - val_accuracy: 0.7656\n",
            "Epoch 46/50\n",
            "8/8 [==============================] - 9s 1s/step - loss: 0.0926 - accuracy: 0.9658 - val_loss: 2.9097 - val_accuracy: 0.6289\n",
            "Epoch 47/50\n",
            "8/8 [==============================] - 8s 1s/step - loss: 0.1570 - accuracy: 0.9511 - val_loss: 2.8515 - val_accuracy: 0.6250\n",
            "Epoch 48/50\n",
            "8/8 [==============================] - 8s 1s/step - loss: 0.1872 - accuracy: 0.9244 - val_loss: 0.8541 - val_accuracy: 0.8203\n",
            "Epoch 49/50\n",
            "8/8 [==============================] - 8s 1s/step - loss: 0.0963 - accuracy: 0.9700 - val_loss: 2.7540 - val_accuracy: 0.6953\n",
            "Epoch 50/50\n",
            "8/8 [==============================] - 10s 1s/step - loss: 0.1310 - accuracy: 0.9511 - val_loss: 2.1664 - val_accuracy: 0.7227\n"
          ],
          "name": "stdout"
        }
      ]
    },
    {
      "cell_type": "code",
      "metadata": {
        "id": "livsKGUN5fFC",
        "colab_type": "code",
        "colab": {
          "base_uri": "https://localhost:8080/",
          "height": 545
        },
        "outputId": "edc3d816-7d0c-4022-8965-435462f35099"
      },
      "source": [
        "import matplotlib.pyplot as plt\n",
        "acc = history.history['accuracy']\n",
        "val_acc = history.history['val_accuracy']\n",
        "loss = history.history['loss']\n",
        "val_loss = history.history['val_loss']\n",
        "\n",
        "epochs = range(len(acc))\n",
        "\n",
        "plt.plot(epochs, acc, 'r', label='Training accuracy')\n",
        "plt.plot(epochs, val_acc, 'b', label='Validation accuracy')\n",
        "plt.title('Training and validation accuracy')\n",
        "\n",
        "plt.figure()\n",
        "\n",
        "plt.plot(epochs, loss, 'r', label='Training Loss')\n",
        "plt.plot(epochs, val_loss, 'b', label='Validation Loss')\n",
        "plt.title('Training and validation loss')\n",
        "plt.legend()\n",
        "\n",
        "plt.show()"
      ],
      "execution_count": 14,
      "outputs": [
        {
          "output_type": "display_data",
          "data": {
            "image/png": "[encoded data removed]",
            "text/plain": [
              "<Figure size 432x288 with 1 Axes>"
            ]
          },
          "metadata": {
            "tags": [],
            "needs_background": "light"
          }
        },
        {
          "output_type": "display_data",
          "data": {
            "image/png": "[encoded data removed]",
            "text/plain": [
              "<Figure size 432x288 with 1 Axes>"
            ]
          },
          "metadata": {
            "tags": [],
            "needs_background": "light"
          }
        }
      ]
    },
    {
      "cell_type": "code",
      "metadata": {
        "id": "JzYmslRp5fFE",
        "colab_type": "code",
        "colab": {}
      },
      "source": [
        "# stop kernel\n",
        "import os, signal\n",
        "os.kill(os.getpid(), signal.SIGKILL)"
      ],
      "execution_count": null,
      "outputs": []
    },
    {
      "cell_type": "code",
      "metadata": {
        "id": "UrdM1PV75fFH",
        "colab_type": "code",
        "colab": {}
      },
      "source": [
        ""
      ],
      "execution_count": null,
      "outputs": []
    },
    {
      "cell_type": "code",
      "metadata": {
        "id": "A0u7-DP75fFK",
        "colab_type": "code",
        "colab": {}
      },
      "source": [
        ""
      ],
      "execution_count": null,
      "outputs": []
    },
    {
      "cell_type": "code",
      "metadata": {
        "id": "5jSVD39a5fFM",
        "colab_type": "code",
        "colab": {}
      },
      "source": [
        ""
      ],
      "execution_count": null,
      "outputs": []
    },
    {
      "cell_type": "code",
      "metadata": {
        "id": "U4rTX4c35fFP",
        "colab_type": "code",
        "colab": {}
      },
      "source": [
        ""
      ],
      "execution_count": null,
      "outputs": []
    },
    {
      "cell_type": "code",
      "metadata": {
        "id": "baG5u7aB5fFS",
        "colab_type": "code",
        "colab": {}
      },
      "source": [
        ""
      ],
      "execution_count": null,
      "outputs": []
    },
    {
      "cell_type": "code",
      "metadata": {
        "id": "3qDEOGpt5fFW",
        "colab_type": "code",
        "colab": {}
      },
      "source": [
        ""
      ],
      "execution_count": null,
      "outputs": []
    },
    {
      "cell_type": "code",
      "metadata": {
        "id": "aANkTf1W5fFY",
        "colab_type": "code",
        "colab": {}
      },
      "source": [
        ""
      ],
      "execution_count": null,
      "outputs": []
    },
    {
      "cell_type": "code",
      "metadata": {
        "id": "1mzldDA35fFc",
        "colab_type": "code",
        "colab": {}
      },
      "source": [
        ""
      ],
      "execution_count": null,
      "outputs": []
    },
    {
      "cell_type": "code",
      "metadata": {
        "id": "h7Kjj3ZC5fFf",
        "colab_type": "code",
        "colab": {}
      },
      "source": [
        ""
      ],
      "execution_count": null,
      "outputs": []
    },
    {
      "cell_type": "code",
      "metadata": {
        "id": "KNCSKyCv5fFh",
        "colab_type": "code",
        "colab": {}
      },
      "source": [
        ""
      ],
      "execution_count": null,
      "outputs": []
    },
    {
      "cell_type": "code",
      "metadata": {
        "id": "uVKDugV-5fFk",
        "colab_type": "code",
        "colab": {}
      },
      "source": [
        ""
      ],
      "execution_count": null,
      "outputs": []
    },
    {
      "cell_type": "code",
      "metadata": {
        "id": "P91jqOz75fFm",
        "colab_type": "code",
        "colab": {}
      },
      "source": [
        ""
      ],
      "execution_count": null,
      "outputs": []
    }
  ]
}