{
  "nbformat": 4,
  "nbformat_minor": 0,
  "metadata": {
    "colab": {
      "name": "Copy of Transfer Learning Inception.ipynb",
      "provenance": [],
      "collapsed_sections": [],
      "authorship_tag": "ABX9TyMb9YJ62+MSMvn6joMmjPqS",
      "include_colab_link": true
    },
    "kernelspec": {
      "name": "python3",
      "display_name": "Python 3"
    },
    "accelerator": "GPU"
  },
  "cells": [
    {
      "cell_type": "markdown",
      "metadata": {
        "id": "view-in-github",
        "colab_type": "text"
      },
      "source": [
        "<a href=\"https://colab.research.google.com/github/tq21/ML-Stuff/blob/master/Transfer_Learning_InceptionV3.ipynb\" target=\"_parent\"><img src=\"https://colab.research.google.com/assets/colab-badge.svg\" alt=\"Open In Colab\"/></a>"
      ]
    },
    {
      "cell_type": "code",
      "metadata": {
        "id": "DXmXT4OXJ3cR",
        "colab_type": "code",
        "colab": {}
      },
      "source": [
        "import os\n",
        "import zipfile\n",
        "import tensorflow as tf\n",
        "from tensorflow.keras import layers\n",
        "from tensorflow.keras import Model\n",
        "from tensorflow.keras.optimizers import RMSprop\n",
        "from tensorflow.keras.applications.inception_v3 import InceptionV3\n",
        "from tensorflow.keras.preprocessing.image import ImageDataGenerator"
      ],
      "execution_count": 1,
      "outputs": []
    },
    {
      "cell_type": "markdown",
      "metadata": {
        "id": "tY2GWk2NKJNg",
        "colab_type": "text"
      },
      "source": [
        "## Preprocessing"
      ]
    },
    {
      "cell_type": "code",
      "metadata": {
        "id": "PHvby6VeHvEC",
        "colab_type": "code",
        "colab": {
          "base_uri": "https://localhost:8080/",
          "height": 68
        },
        "outputId": "6e785279-85f1-41d5-e015-832b414ba8f7"
      },
      "source": [
        "!curl https://storage.googleapis.com/mledu-datasets/cats_and_dogs_filtered.zip \\\n",
        "    -o /tmp/cats_and_dogs_filtered.zip"
      ],
      "execution_count": 2,
      "outputs": [
        {
          "output_type": "stream",
          "text": [
            "  % Total    % Received % Xferd  Average Speed   Time    Time     Time  Current\n",
            "                                 Dload  Upload   Total   Spent    Left  Speed\n",
            "100 65.4M  100 65.4M    0     0  73.1M      0 --:--:-- --:--:-- --:--:-- 73.1M\n"
          ],
          "name": "stdout"
        }
      ]
    },
    {
      "cell_type": "code",
      "metadata": {
        "id": "arvT2E3CIEd-",
        "colab_type": "code",
        "colab": {}
      },
      "source": [
        "local_zip = '//tmp/cats_and_dogs_filtered.zip'\n",
        "zip_ref = zipfile.ZipFile(local_zip, 'r')\n",
        "zip_ref.extractall('/tmp')\n",
        "zip_ref.close()\n",
        "\n",
        "base_dir = '/tmp/cats_and_dogs_filtered'\n",
        "train_dir = os.path.join(base_dir, 'train')\n",
        "validation_dir = os.path.join(base_dir, 'validation')\n",
        "train_cats_dir = os.path.join(train_dir, 'cats')\n",
        "train_dogs_dir = os.path.join(train_dir, 'dogs')\n",
        "validation_cats_dir = os.path.join(train_cats_dir, 'cats')\n",
        "validation_dogs_dir = os.path.join(train_dogs_dir, 'dogs')\n",
        "train_cat_fnames = os.listdir(train_cats_dir)\n",
        "train_dog_fnames = os.listdir(train_dogs_dir)"
      ],
      "execution_count": 3,
      "outputs": []
    },
    {
      "cell_type": "code",
      "metadata": {
        "id": "2-g0l5RFKPyF",
        "colab_type": "code",
        "colab": {
          "base_uri": "https://localhost:8080/",
          "height": 51
        },
        "outputId": "f203910f-430e-4924-b8b2-b4f391963ea2"
      },
      "source": [
        "# augmentation\n",
        "train_datagen = ImageDataGenerator(\n",
        "    rescale=1.0/255.0,\n",
        "    rotation_range=40,\n",
        "    width_shift_range=0.2,\n",
        "    height_shift_range=0.2,\n",
        "    shear_range=0.2,\n",
        "    zoom_range=0.2,\n",
        "    horizontal_flip=True\n",
        ")\n",
        "\n",
        "test_datagen = ImageDataGenerator(rescale=1.0/255.0)\n",
        "\n",
        "train_generator = train_datagen.flow_from_directory(\n",
        "    train_dir,\n",
        "    batch_size=20,\n",
        "    class_mode='binary',\n",
        "    target_size=(150,150)\n",
        ")\n",
        "\n",
        "validation_generator = test_datagen.flow_from_directory(\n",
        "    validation_dir,\n",
        "    batch_size=20,\n",
        "    class_mode='binary',\n",
        "    target_size=(150,150)\n",
        ")"
      ],
      "execution_count": 4,
      "outputs": [
        {
          "output_type": "stream",
          "text": [
            "Found 2000 images belonging to 2 classes.\n",
            "Found 1000 images belonging to 2 classes.\n"
          ],
          "name": "stdout"
        }
      ]
    },
    {
      "cell_type": "markdown",
      "metadata": {
        "id": "Y94dGkYmK-E7",
        "colab_type": "text"
      },
      "source": [
        "## Load Pre-trained InceptionV3"
      ]
    },
    {
      "cell_type": "code",
      "metadata": {
        "id": "0-hmAG6vHps1",
        "colab_type": "code",
        "colab": {
          "base_uri": "https://localhost:8080/",
          "height": 68
        },
        "outputId": "068df659-b22a-4a8c-ebe1-1276e69ffc80"
      },
      "source": [
        "!curl https://storage.googleapis.com/mledu-datasets/inception_v3_weights_tf_dim_ordering_tf_kernels_notop.h5 \\\n",
        "    -o /tmp/inception_v3_weights_tf_dim_ordering_tf_kernels_notop.h5"
      ],
      "execution_count": 7,
      "outputs": [
        {
          "output_type": "stream",
          "text": [
            "  % Total    % Received % Xferd  Average Speed   Time    Time     Time  Current\n",
            "                                 Dload  Upload   Total   Spent    Left  Speed\n",
            "\r  0     0    0     0    0     0      0      0 --:--:-- --:--:-- --:--:--     0\r  7 83.8M    7 6520k    0     0  33.6M      0  0:00:02 --:--:--  0:00:02 33.5M\r100 83.8M  100 83.8M    0     0   205M      0 --:--:-- --:--:-- --:--:--  205M\n"
          ],
          "name": "stdout"
        }
      ]
    },
    {
      "cell_type": "code",
      "metadata": {
        "id": "C8zQQifWLSTS",
        "colab_type": "code",
        "colab": {}
      },
      "source": [
        "# stores all pre-trained weights\n",
        "local_weights_file = '/tmp/inception_v3_weights_tf_dim_ordering_tf_kernels_notop.h5'\n",
        "\n",
        "pre_trained_model = InceptionV3(input_shape=(150,150,3),\n",
        "                                include_top=False,\n",
        "                                weights=None)\n",
        "\n",
        "# load pre-trained weights to model\n",
        "pre_trained_model.load_weights(local_weights_file)\n",
        "\n",
        "# make all layers in the pre-trained model non-trainable\n",
        "for layer in pre_trained_model.layers:\n",
        "    layer.trainable = False\n",
        "\n",
        "# pre_trained_model.summary()"
      ],
      "execution_count": 8,
      "outputs": []
    },
    {
      "cell_type": "code",
      "metadata": {
        "id": "J-4gt2I9K0N8",
        "colab_type": "code",
        "colab": {
          "base_uri": "https://localhost:8080/",
          "height": 34
        },
        "outputId": "39c19576-517b-421b-9621-00a74f3d0843"
      },
      "source": [
        "last_layer = pre_trained_model.get_layer('mixed7')\n",
        "print('last layer output shape: ', last_layer.output_shape)\n",
        "last_output = last_layer.output"
      ],
      "execution_count": 9,
      "outputs": [
        {
          "output_type": "stream",
          "text": [
            "last layer output shape:  (None, 7, 7, 768)\n"
          ],
          "name": "stdout"
        }
      ]
    },
    {
      "cell_type": "markdown",
      "metadata": {
        "id": "DsE2IGOZLkR2",
        "colab_type": "text"
      },
      "source": [
        "## Transfer"
      ]
    },
    {
      "cell_type": "code",
      "metadata": {
        "id": "YwEdrSAZLTi2",
        "colab_type": "code",
        "colab": {}
      },
      "source": [
        "# callback function\n",
        "class myCallback(tf.keras.callbacks.Callback):\n",
        "    def on_epoch_end(self, epoch, logs={}):\n",
        "        if (logs.get('accuracy') > 0.97):\n",
        "            print(\"\\nReached 97.0% accuracy so cancelling training!\")\n",
        "            self.model.stop_training = True\n",
        "\n",
        "callbacks = myCallback()"
      ],
      "execution_count": 13,
      "outputs": []
    },
    {
      "cell_type": "code",
      "metadata": {
        "id": "_Gv-4-VsMRTk",
        "colab_type": "code",
        "colab": {}
      },
      "source": [
        "# flatten output layer to last_output\n",
        "x = layers.Flatten()(last_output)\n",
        "# add layer to x\n",
        "x = layers.Dense(1024, activation='relu')(x)\n",
        "# add dropout rate of 0.2 to x\n",
        "x = layers.Dropout(0.2)(x)\n",
        "# add output layer to x\n",
        "x = layers.Dense(1, activation='sigmoid')(x)\n",
        "\n",
        "model = Model(pre_trained_model.input, x)\n",
        "\n",
        "model.compile(optimizer=RMSprop(lr=0.0001),\n",
        "              loss='binary_crossentropy',\n",
        "              metrics=['accuracy'])\n",
        "\n",
        "# model.summary()"
      ],
      "execution_count": 14,
      "outputs": []
    },
    {
      "cell_type": "code",
      "metadata": {
        "id": "hKfajWrRNJqL",
        "colab_type": "code",
        "colab": {
          "base_uri": "https://localhost:8080/",
          "height": 649
        },
        "outputId": "ffe13af1-da2c-4b89-eb1c-460c8362d3e8"
      },
      "source": [
        "history = model.fit(\n",
        "    train_generator,\n",
        "    validation_data=validation_generator,\n",
        "    steps_per_epoch=100,\n",
        "    epochs=20,\n",
        "    validation_steps=50,\n",
        "    callbacks=[callbacks]\n",
        ")"
      ],
      "execution_count": 19,
      "outputs": [
        {
          "output_type": "stream",
          "text": [
            "Epoch 1/20\n",
            "100/100 [==============================] - 19s 189ms/step - loss: 0.1367 - accuracy: 0.9580 - val_loss: 0.1417 - val_accuracy: 0.9640\n",
            "Epoch 2/20\n",
            "100/100 [==============================] - 20s 199ms/step - loss: 0.1106 - accuracy: 0.9585 - val_loss: 0.1330 - val_accuracy: 0.9670\n",
            "Epoch 3/20\n",
            "100/100 [==============================] - 20s 196ms/step - loss: 0.1331 - accuracy: 0.9560 - val_loss: 0.1342 - val_accuracy: 0.9670\n",
            "Epoch 4/20\n",
            "100/100 [==============================] - 19s 190ms/step - loss: 0.1082 - accuracy: 0.9670 - val_loss: 0.2078 - val_accuracy: 0.9530\n",
            "Epoch 5/20\n",
            "100/100 [==============================] - 19s 187ms/step - loss: 0.1092 - accuracy: 0.9625 - val_loss: 0.1311 - val_accuracy: 0.9670\n",
            "Epoch 6/20\n",
            "100/100 [==============================] - 19s 188ms/step - loss: 0.1259 - accuracy: 0.9600 - val_loss: 0.1259 - val_accuracy: 0.9720\n",
            "Epoch 7/20\n",
            "100/100 [==============================] - 19s 187ms/step - loss: 0.1198 - accuracy: 0.9650 - val_loss: 0.1342 - val_accuracy: 0.9650\n",
            "Epoch 8/20\n",
            "100/100 [==============================] - 19s 186ms/step - loss: 0.1052 - accuracy: 0.9650 - val_loss: 0.1394 - val_accuracy: 0.9620\n",
            "Epoch 9/20\n",
            "100/100 [==============================] - 19s 187ms/step - loss: 0.1001 - accuracy: 0.9690 - val_loss: 0.1400 - val_accuracy: 0.9660\n",
            "Epoch 10/20\n",
            "100/100 [==============================] - 19s 187ms/step - loss: 0.1065 - accuracy: 0.9605 - val_loss: 0.1371 - val_accuracy: 0.9690\n",
            "Epoch 11/20\n",
            "100/100 [==============================] - 19s 189ms/step - loss: 0.1166 - accuracy: 0.9640 - val_loss: 0.1406 - val_accuracy: 0.9710\n",
            "Epoch 12/20\n",
            "100/100 [==============================] - 19s 187ms/step - loss: 0.0962 - accuracy: 0.9660 - val_loss: 0.1258 - val_accuracy: 0.9700\n",
            "Epoch 13/20\n",
            "100/100 [==============================] - 18s 185ms/step - loss: 0.1099 - accuracy: 0.9690 - val_loss: 0.1252 - val_accuracy: 0.9690\n",
            "Epoch 14/20\n",
            "100/100 [==============================] - 18s 184ms/step - loss: 0.0921 - accuracy: 0.9670 - val_loss: 0.1308 - val_accuracy: 0.9670\n",
            "Epoch 15/20\n",
            "100/100 [==============================] - 19s 185ms/step - loss: 0.1088 - accuracy: 0.9655 - val_loss: 0.1382 - val_accuracy: 0.9670\n",
            "Epoch 16/20\n",
            "100/100 [==============================] - 18s 185ms/step - loss: 0.1139 - accuracy: 0.9655 - val_loss: 0.1273 - val_accuracy: 0.9690\n",
            "Epoch 17/20\n",
            "100/100 [==============================] - ETA: 0s - loss: 0.0866 - accuracy: 0.9715\n",
            "Reached 97.0% accuracy so cancelling training!\n",
            "100/100 [==============================] - 18s 184ms/step - loss: 0.0866 - accuracy: 0.9715 - val_loss: 0.1466 - val_accuracy: 0.9670\n"
          ],
          "name": "stdout"
        }
      ]
    },
    {
      "cell_type": "code",
      "metadata": {
        "id": "PBNmeqUHL0AR",
        "colab_type": "code",
        "colab": {
          "base_uri": "https://localhost:8080/",
          "height": 298
        },
        "outputId": "34745fe0-0d0d-4b12-b05a-2187f107b5a7"
      },
      "source": [
        "import matplotlib.pyplot as plt\n",
        "acc = history.history['accuracy']\n",
        "val_acc = history.history['val_accuracy']\n",
        "loss = history.history['loss']\n",
        "val_loss = history.history['val_loss']\n",
        "\n",
        "epochs = range(len(acc))\n",
        "\n",
        "plt.plot(epochs, acc, 'r', label='Training accuracy')\n",
        "plt.plot(epochs, val_acc, 'b', label='Validation accuracy')\n",
        "plt.title('Training and validation accuracy')\n",
        "plt.legend(loc=0)\n",
        "plt.figure()\n",
        "\n",
        "plt.show()"
      ],
      "execution_count": 20,
      "outputs": [
        {
          "output_type": "display_data",
          "data": {
            "image/png": "[encoded data removed]",
            "text/plain": [
              "<Figure size 432x288 with 1 Axes>"
            ]
          },
          "metadata": {
            "tags": [],
            "needs_background": "light"
          }
        },
        {
          "output_type": "display_data",
          "data": {
            "text/plain": [
              "<Figure size 432x288 with 0 Axes>"
            ]
          },
          "metadata": {
            "tags": []
          }
        }
      ]
    },
    {
      "cell_type": "code",
      "metadata": {
        "id": "YeN2YXU9L7ap",
        "colab_type": "code",
        "colab": {}
      },
      "source": [
        ""
      ],
      "execution_count": 18,
      "outputs": []
    },
    {
      "cell_type": "code",
      "metadata": {
        "id": "ws3yL7sfNoUk",
        "colab_type": "code",
        "colab": {}
      },
      "source": [
        ""
      ],
      "execution_count": null,
      "outputs": []
    }
  ]
}